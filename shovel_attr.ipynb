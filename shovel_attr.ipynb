{
 "cells": [
  {
   "cell_type": "code",
   "execution_count": 2,
   "metadata": {},
   "outputs": [],
   "source": [
    "import attr"
   ]
  },
  {
   "cell_type": "code",
   "execution_count": 4,
   "metadata": {},
   "outputs": [],
   "source": [
    "# -*- coding: utf-8 -*-\n",
    "\"\"\"Shovel module.\n",
    "\n",
    "This module shows what a shovel is, why it is needed,\n",
    "what can be done with it, its characteristics are shown.\n",
    "\"\"\"\n",
    "from math import pi\n",
    "\n",
    "\n",
    "@attr.s\n",
    "class Shovel:\n",
    "    \"\"\"Shovel interface.\"\"\"\n",
    "\n",
    "    # Shovel parameters.\n",
    "    color = attr.ib(default=str)\n",
    "    weight = attr.ib(default=int)\n",
    "    length = attr.ib(default=float)\n",
    "    diameter = attr.ib(default=float)\n",
    "\n",
    "    def area_handle(self):\n",
    "        \"\"\"Print the cylinder(handle shovel) area.\"\"\"\n",
    "        print('Area shovel handle is {}.'.format(\n",
    "            2 * pi * (self.diameter / 2) * self.length))\n",
    "\n",
    "    def protect_me(self):\n",
    "        \"\"\"Protection from the robber.\n",
    "\n",
    "        If the shovel is heavy, the robber can be killed.\n",
    "        \"\"\"\n",
    "        print('Hit the robber. {} kilo - will hurt.'.format(self.weight))\n",
    "        if self.weight > 5:\n",
    "            print('Call 911, the robber unconscious.')\n",
    "\n",
    "    @staticmethod\n",
    "    def plant_potatoes():\n",
    "        \"\"\"Put the potatoes in the fertile land.\"\"\"\n",
    "        print('Plant potatoes on our field.')\n",
    "\n",
    "    @staticmethod\n",
    "    def remove_debris(weight_debris):\n",
    "        \"\"\"Remove debris.\n",
    "\n",
    "        If debris is heavy, the shovel can break.\n",
    "        \"\"\"\n",
    "        print('Pick up trash near our yard.')\n",
    "        if weight_debris > 4:\n",
    "            print('Be careful, the debris is heavy.')\n",
    "\n"
   ]
  },
  {
   "cell_type": "code",
   "execution_count": 6,
   "metadata": {},
   "outputs": [],
   "source": [
    "s = Shovel()"
   ]
  },
  {
   "cell_type": "code",
   "execution_count": 11,
   "metadata": {},
   "outputs": [],
   "source": [
    "s.color = 'red'\n",
    "s.weight = 12\n",
    "s.length = 140\n",
    "s.diameter = 12"
   ]
  },
  {
   "cell_type": "code",
   "execution_count": 12,
   "metadata": {},
   "outputs": [
    {
     "data": {
      "text/plain": [
       "Shovel(color='red', weight=12, length=140, diameter=12)"
      ]
     },
     "execution_count": 12,
     "metadata": {},
     "output_type": "execute_result"
    }
   ],
   "source": [
    "s"
   ]
  },
  {
   "cell_type": "code",
   "execution_count": 13,
   "metadata": {},
   "outputs": [
    {
     "name": "stdout",
     "output_type": "stream",
     "text": [
      "Area shovel handle is 5277.875658030853.\n"
     ]
    }
   ],
   "source": [
    "s.area_handle()"
   ]
  },
  {
   "cell_type": "code",
   "execution_count": 14,
   "metadata": {},
   "outputs": [
    {
     "name": "stdout",
     "output_type": "stream",
     "text": [
      "Hit the robber. 12 kilo - will hurt.\n",
      "Call 911, the robber unconscious.\n"
     ]
    }
   ],
   "source": [
    "s.protect_me()"
   ]
  },
  {
   "cell_type": "code",
   "execution_count": 15,
   "metadata": {},
   "outputs": [
    {
     "name": "stdout",
     "output_type": "stream",
     "text": [
      "Plant potatoes on our field.\n"
     ]
    }
   ],
   "source": [
    "s.plant_potatoes()"
   ]
  },
  {
   "cell_type": "code",
   "execution_count": 16,
   "metadata": {},
   "outputs": [
    {
     "name": "stdout",
     "output_type": "stream",
     "text": [
      "Pick up trash near our yard.\n",
      "Be careful, the debris is heavy.\n"
     ]
    }
   ],
   "source": [
    "s.remove_debris(12)"
   ]
  },
  {
   "cell_type": "code",
   "execution_count": null,
   "metadata": {},
   "outputs": [],
   "source": []
  }
 ],
 "metadata": {
  "kernelspec": {
   "display_name": "Python 3",
   "language": "python",
   "name": "python3"
  },
  "language_info": {
   "codemirror_mode": {
    "name": "ipython",
    "version": 3
   },
   "file_extension": ".py",
   "mimetype": "text/x-python",
   "name": "python",
   "nbconvert_exporter": "python",
   "pygments_lexer": "ipython3",
   "version": "3.7.0"
  }
 },
 "nbformat": 4,
 "nbformat_minor": 2
}
